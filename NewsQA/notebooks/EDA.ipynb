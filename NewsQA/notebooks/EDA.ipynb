{
 "cells": [
  {
   "cell_type": "markdown",
   "metadata": {},
   "source": [
    "# Exploratory Data Analysis\n",
    "\n",
    "This notebook does exploratory data analysis and formats the data, like removing low-quality examples and converting columns to numeric format."
   ]
  },
  {
   "cell_type": "code",
   "execution_count": 1,
   "metadata": {},
   "outputs": [],
   "source": [
    "import sys\n",
    "sys.path.append(\"../\")\n",
    "\n",
    "import random\n",
    "import re\n",
    "\n",
    "import numpy as np\n",
    "import pandas as pd\n",
    "import matplotlib.pyplot as plt\n",
    "plt.style.use('seaborn-v0_8')\n",
    "\n",
    "from sklearn.feature_extraction.text import CountVectorizer"
   ]
  },
  {
   "cell_type": "code",
   "execution_count": 2,
   "metadata": {},
   "outputs": [
    {
     "data": {
      "text/html": [
       "<div>\n",
       "<style scoped>\n",
       "    .dataframe tbody tr th:only-of-type {\n",
       "        vertical-align: middle;\n",
       "    }\n",
       "\n",
       "    .dataframe tbody tr th {\n",
       "        vertical-align: top;\n",
       "    }\n",
       "\n",
       "    .dataframe thead th {\n",
       "        text-align: right;\n",
       "    }\n",
       "</style>\n",
       "<table border=\"1\" class=\"dataframe\">\n",
       "  <thead>\n",
       "    <tr style=\"text-align: right;\">\n",
       "      <th></th>\n",
       "      <th>story_id</th>\n",
       "      <th>question</th>\n",
       "      <th>answer_char_ranges</th>\n",
       "      <th>is_answer_absent</th>\n",
       "      <th>is_question_bad</th>\n",
       "      <th>validated_answers</th>\n",
       "    </tr>\n",
       "  </thead>\n",
       "  <tbody>\n",
       "    <tr>\n",
       "      <th>0</th>\n",
       "      <td>./cnn/stories/42d01e187213e86f5fe617fe32e716ff...</td>\n",
       "      <td>What was the amount of children murdered?</td>\n",
       "      <td>294:297|None|None</td>\n",
       "      <td>0.0</td>\n",
       "      <td>0.0</td>\n",
       "      <td>{\"none\": 1, \"294:297\": 2}</td>\n",
       "    </tr>\n",
       "    <tr>\n",
       "      <th>1</th>\n",
       "      <td>./cnn/stories/c48228a52f26aca65c31fad273e66164...</td>\n",
       "      <td>Where was one employee killed?</td>\n",
       "      <td>34:60|1610:1618|34:60</td>\n",
       "      <td>0.0</td>\n",
       "      <td>0.0</td>\n",
       "      <td>NaN</td>\n",
       "    </tr>\n",
       "    <tr>\n",
       "      <th>2</th>\n",
       "      <td>./cnn/stories/c65ed85800e4535f4bbbfa2c34d7d963...</td>\n",
       "      <td>who did say South Africa did not issue a visa ...</td>\n",
       "      <td>103:127|114:127|839:853</td>\n",
       "      <td>0.0</td>\n",
       "      <td>0.0</td>\n",
       "      <td>{\"839:853\": 1, \"103:127\": 2}</td>\n",
       "    </tr>\n",
       "    <tr>\n",
       "      <th>3</th>\n",
       "      <td>./cnn/stories/0cf66b646e9b32076513c050edf32a79...</td>\n",
       "      <td>How many years old was the businessman?</td>\n",
       "      <td>538:550|538:550</td>\n",
       "      <td>0.0</td>\n",
       "      <td>0.0</td>\n",
       "      <td>NaN</td>\n",
       "    </tr>\n",
       "    <tr>\n",
       "      <th>4</th>\n",
       "      <td>./cnn/stories/13012604e3203c18df09289dfedd14cd...</td>\n",
       "      <td>What frightened the families?</td>\n",
       "      <td>690:742|688:791|630:646</td>\n",
       "      <td>0.0</td>\n",
       "      <td>0.0</td>\n",
       "      <td>{\"688:791\": 2, \"690:742\": 1}</td>\n",
       "    </tr>\n",
       "  </tbody>\n",
       "</table>\n",
       "</div>"
      ],
      "text/plain": [
       "                                            story_id  \\\n",
       "0  ./cnn/stories/42d01e187213e86f5fe617fe32e716ff...   \n",
       "1  ./cnn/stories/c48228a52f26aca65c31fad273e66164...   \n",
       "2  ./cnn/stories/c65ed85800e4535f4bbbfa2c34d7d963...   \n",
       "3  ./cnn/stories/0cf66b646e9b32076513c050edf32a79...   \n",
       "4  ./cnn/stories/13012604e3203c18df09289dfedd14cd...   \n",
       "\n",
       "                                            question       answer_char_ranges  \\\n",
       "0          What was the amount of children murdered?        294:297|None|None   \n",
       "1                     Where was one employee killed?    34:60|1610:1618|34:60   \n",
       "2  who did say South Africa did not issue a visa ...  103:127|114:127|839:853   \n",
       "3            How many years old was the businessman?          538:550|538:550   \n",
       "4                      What frightened the families?  690:742|688:791|630:646   \n",
       "\n",
       "   is_answer_absent is_question_bad             validated_answers  \n",
       "0               0.0             0.0     {\"none\": 1, \"294:297\": 2}  \n",
       "1               0.0             0.0                           NaN  \n",
       "2               0.0             0.0  {\"839:853\": 1, \"103:127\": 2}  \n",
       "3               0.0             0.0                           NaN  \n",
       "4               0.0             0.0  {\"688:791\": 2, \"690:742\": 1}  "
      ]
     },
     "execution_count": 2,
     "metadata": {},
     "output_type": "execute_result"
    }
   ],
   "source": [
    "# Reading in the dataset\n",
    "df = pd.read_csv('../data/newsqa-data-v1.csv')\n",
    "df.head()"
   ]
  },
  {
   "cell_type": "code",
   "execution_count": 3,
   "metadata": {},
   "outputs": [
    {
     "data": {
      "text/plain": [
       "119633"
      ]
     },
     "execution_count": 3,
     "metadata": {},
     "output_type": "execute_result"
    }
   ],
   "source": [
    "# Size of the dataset\n",
    "len(df)"
   ]
  },
  {
   "cell_type": "code",
   "execution_count": 4,
   "metadata": {},
   "outputs": [
    {
     "data": {
      "text/plain": [
       "20051"
      ]
     },
     "execution_count": 4,
     "metadata": {},
     "output_type": "execute_result"
    }
   ],
   "source": [
    "# Convert to numeric and remove non-numeric rows\n",
    "df = df[pd.to_numeric(df['is_question_bad'], errors = 'coerce').notnull()]\n",
    "df['is_question_bad'] = df['is_question_bad'].astype(float)\n",
    "\n",
    "# Number of bad questions\n",
    "len(df[df['is_question_bad'] > 0])"
   ]
  },
  {
   "cell_type": "code",
   "execution_count": 5,
   "metadata": {},
   "outputs": [],
   "source": [
    "# Remove all bad questions/questions that don't make any sense\n",
    "df = df[df['is_question_bad'] == 0]\n",
    "df = df.reset_index(drop = True)"
   ]
  },
  {
   "cell_type": "code",
   "execution_count": 6,
   "metadata": {},
   "outputs": [
    {
     "data": {
      "text/plain": [
       "87810"
      ]
     },
     "execution_count": 6,
     "metadata": {},
     "output_type": "execute_result"
    }
   ],
   "source": [
    "# Final data size\n",
    "len(df)"
   ]
  },
  {
   "cell_type": "code",
   "execution_count": 7,
   "metadata": {},
   "outputs": [
    {
     "data": {
      "image/png": "[encoded data removed]",
      "text/plain": [
       "<Figure size 2000x600 with 2 Axes>"
      ]
     },
     "metadata": {},
     "output_type": "display_data"
    }
   ],
   "source": [
    "# Answer statistics\n",
    "fig, ax = plt.subplots(ncols = 2, figsize = (20, 6))\n",
    "\n",
    "atleast_one_no_ans = len(df[df['is_answer_absent'] != 0])\n",
    "sizes1 = [atleast_one_no_ans, len(df) - atleast_one_no_ans]\n",
    "labels1 = ['Atleast one said there\\'s no answer', 'Everyone said there\\'s an answer']\n",
    "ax[0].pie(sizes1, labels = labels1, autopct = '%1.0f%%', pctdistance = 0.5, labeldistance = 1.1)\n",
    "\n",
    "all_no_ans = len(df[df['is_answer_absent'] == 1])\n",
    "sizes2 = [all_no_ans, len(df) - all_no_ans]\n",
    "labels2 = ['Everyone said there\\'s no answer', 'Atleast one gave an answer']\n",
    "ax[1].pie(sizes2, labels = labels2, autopct = '%1.0f%%', pctdistance = 0.5, labeldistance = 1.1)\n",
    "\n",
    "plt.show()"
   ]
  },
  {
   "cell_type": "markdown",
   "metadata": {},
   "source": [
    "In 22% of the cases where some said there is no answer and some crowdworkers provided an answer, it might be possible that some crowdworkers did not find an answer. In those cases, we can ignore the 'None' answer."
   ]
  },
  {
   "cell_type": "code",
   "execution_count": 8,
   "metadata": {},
   "outputs": [
    {
     "data": {
      "text/plain": [
       "56.02209315567703"
      ]
     },
     "execution_count": 8,
     "metadata": {},
     "output_type": "execute_result"
    }
   ],
   "source": [
    "# Precentage of questions that have validated answers\n",
    "100*df['validated_answers'].isnull().sum()/len(df)"
   ]
  },
  {
   "cell_type": "code",
   "execution_count": 9,
   "metadata": {},
   "outputs": [
    {
     "name": "stdout",
     "output_type": "stream",
     "text": [
      "Story (4459 words):\n",
      "Palm Beach, Florida (CNN) -- For years, Army veteran Roy Foster's motto has been \"No man left behind.\" This month, he's broadened it to include women.\n",
      "\n",
      "In November, Foster was recognized at \"CNN Heroes: An All-Star Tribute\" as a Top 10 CNN Hero of 2009 for his efforts to help male veterans struggling with homelessness and addiction. His nonprofit, Faith*Hope*Love*Charity, has provided food, housing, counseling, employment and medical services to more than 1,100 veterans.\n",
      "\n",
      "\"I was somewhat overwhelmed at the tribute. To be a part of something that you love doing -- to be honored in doing it was, you know, strange,\" recalled Foster, 54. \"But then to be showcased internationally was tremendous. And it's still reaping benefits today.\"\n",
      "\n",
      "Among those benefits is Foster's recent opening of the First Stop Resource Center and Housing Program in Palm Beach, Florida. The center and program widen the scope of support services his organization has been offering through its original Stand Down House. They also bring Foster's long-held dream to fruition.\n",
      "\n",
      "\"Twenty years ago, the dream was to be able to provide assistance and services for homeless veterans and their entire family,\" he said. \"We did come up with Stand Down House 10 years ago, but there was never that support for the family or the female veterans. This year, we've been fortunate enough to complete that vision.\"\n",
      "\n",
      "Do you know a hero? Nominations are open for 2010 CNN Heroes\n",
      "\n",
      "The First Stop Resource Center assists veterans and their families through various periods of crises, including homelessness and addiction. Before its addition, Foster and his team had to send veterans in need from one partner aid agency to another over multiple days, in multiple locations -- increasing the risk of losing clients back to the streets.\n",
      "\n",
      "At the new resource center, veterans in need are able to meet with any of First Stop's 15 community aid partners under one roof in a single visit. They can receive assistance with housing, legal, medical care, employment, child care, education, pensions, food stamps and transportation needs.\n",
      "\n",
      "\"We were looking to establish a place where we will not lose them in that process of 'hurry up and wait,' \" Foster said. \"We want to centralize it. We want to get their needs addressed and ... get these service members back out into the community. That's what it's about.\"\n",
      "\n",
      "First Stop's housing program is geared toward female veterans and veterans with children. Set adjacent to the organization's original Stand Down House for male veterans, the two new residence buildings can provide temporary housing for up to eight single female veterans and two small families. It is only the second transitional housing facility in the nation available to veterans with children, according to the U.S. Department of Veterans Affairs.\n",
      "\n",
      "\"We're trying to empower the family structure, because if the family struggles, the soldier struggles. When the soldier struggles, it puts everyone at risk,\" Foster said.\n",
      "\n",
      "Barbara Williams is First Stop's first female resident. An Operation Desert Storm veteran, Williams fell on hard times after losing her job last year. Now, she and her daughters have a roof over their heads and the hope of better days to come.\n",
      "\n",
      "\"My pride is restored,\" said Williams, 40. \"I'm able to just go off to look for jobs and not worry about where am I going to go when I come home. It's just so much relief.\"\n",
      "\n",
      "The seed money for the new housing facility arrived shortly after Foster was announced as a Top 10 CNN Hero. A local veteran and recovering addict who was touched by Foster's story approached him with a donation that covered the first year's housing budget, about $44,000. The furnishings were donated by a local veterans' motorcycle club.\n",
      "\n",
      "\"Believe it, there are people in America that do care, and we were blessed to come across these individuals,\" Foster said. \"And the thing that I appreciate the most is it is done for veterans by veterans. ... We are going to leave no man, or woman or family behind.\"\n",
      "\n",
      "Want to get involved? Check out the Stand Down House website and see how to help.\n",
      "\n",
      "@highlight\n",
      "\n",
      "Roy Foster was recognized as a Top 10 CNN Hero of 2009 for his work with veterans\n",
      "\n",
      "@highlight\n",
      "\n",
      "Foster's Stand Down House helps veterans struggling with homelessness and addiction\n",
      "\n",
      "@highlight\n",
      "\n",
      "His organization recently expanded to help women veterans and veterans' families\n",
      "\n",
      "@highlight\n",
      "\n",
      "Do you know a hero? Nominations are open for 2010 CNN Heroes\n",
      "\n",
      "Question (55 words): was Roy Foster recognized as a Top 10 CNN Hero of 2009?\n",
      "Answer:  CNN Heroes: An All-\n",
      "Answer:   Top \n",
      "Answer:  009\n",
      "Answer:  CNN Heroes: An All-Star Tribute\" as a Top \n",
      "Answer:  009\n",
      "Answer:  ovember, Fost\n",
      "Answer:  CNN Heroes: An All-Star Tribute\" as a Top \n",
      "Answer:  009\n"
     ]
    }
   ],
   "source": [
    "# Story, question, answer example\n",
    "# random.seed(0)\n",
    "idx = random.randint(0, len(df))\n",
    "with open(df['story_id'][idx]) as f:\n",
    "    story = f.read()\n",
    "    \n",
    "question = df['question'][idx]\n",
    "answers = re.split(',|\\|', df['answer_char_ranges'][idx])\n",
    "\n",
    "print(\"Story ({} words):\".format(len(story)))\n",
    "print(story)\n",
    "print(\"\\nQuestion ({} words): {}\".format(len(question), question))\n",
    "\n",
    "for ans_range in answers:\n",
    "    if ans_range == 'None':\n",
    "        print(\"Answer: None\")\n",
    "    else:\n",
    "        indices = ans_range.split(':')\n",
    "        print(\"Answer: \", story[int(indices[0]):int(indices[1])])"
   ]
  },
  {
   "cell_type": "code",
   "execution_count": 10,
   "metadata": {},
   "outputs": [],
   "source": [
    "# Word counts in questions\n",
    "cv = CountVectorizer(stop_words = ['the', 'is', 'was', 'of', 'to', 'in'])\n",
    "dtm = cv.fit_transform(df['question']).toarray()\n",
    "\n",
    "word_counts = dtm.sum(axis = 0)"
   ]
  },
  {
   "cell_type": "code",
   "execution_count": 13,
   "metadata": {
    "scrolled": true
   },
   "outputs": [
    {
     "data": {
      "image/png": "[encoded data removed]",
      "text/plain": [
       "<Figure size 800x500 with 1 Axes>"
      ]
     },
     "metadata": {},
     "output_type": "display_data"
    }
   ],
   "source": [
    "# Plotting top 5 words\n",
    "fig, ax = plt.subplots(figsize = (8, 5))\n",
    "\n",
    "sorted_idx = np.argsort(word_counts)[::-1]\n",
    "vocab = np.array(cv.get_feature_names_out())\n",
    "\n",
    "top_words_idx = sorted_idx[:5]\n",
    "plt.bar(x = vocab[top_words_idx], height = word_counts[top_words_idx])\n",
    "\n",
    "for i in range(len(top_words_idx)):\n",
    "    plt.text(x = i - 0.2, y = word_counts[top_words_idx[i]] + 300, s = word_counts[top_words_idx[i]])\n",
    "\n",
    "plt.show()"
   ]
  },
  {
   "cell_type": "markdown",
   "metadata": {},
   "source": [
    "From this chart, we can see the types of questions in this dataset. Majority are 'What' questions followed by 'Who'."
   ]
  },
  {
   "cell_type": "code",
   "execution_count": 14,
   "metadata": {},
   "outputs": [],
   "source": [
    "# Removing the path and keeping just the file name in story_id\n",
    "df['story_id'] = df['story_id'].apply(lambda x: x.split('/')[-1].split('.')[0])"
   ]
  },
  {
   "cell_type": "code",
   "execution_count": 15,
   "metadata": {},
   "outputs": [],
   "source": [
    "# Saving the formatted data\n",
    "df.to_csv('../data/newsqa-data-formatted.csv', index = False)"
   ]
  }
 ],
 "metadata": {
  "kernelspec": {
   "display_name": "Python 3 (ipykernel)",
   "language": "python",
   "name": "python3"
  },
  "language_info": {
   "codemirror_mode": {
    "name": "ipython",
    "version": 3
   },
   "file_extension": ".py",
   "mimetype": "text/x-python",
   "name": "python",
   "nbconvert_exporter": "python",
   "pygments_lexer": "ipython3",
   "version": "3.11.7"
  }
 },
 "nbformat": 4,
 "nbformat_minor": 4
}
